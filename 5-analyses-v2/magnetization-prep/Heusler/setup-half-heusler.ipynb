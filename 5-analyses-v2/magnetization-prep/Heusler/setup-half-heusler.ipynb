{
 "cells": [
  {
   "cell_type": "code",
   "execution_count": 1,
   "metadata": {},
   "outputs": [],
   "source": [
    "from pymatgen.core import Lattice, Structure\n",
    "from aiida.orm import StructureData"
   ]
  },
  {
   "cell_type": "code",
   "execution_count": 2,
   "metadata": {},
   "outputs": [],
   "source": [
    "def create_primitive_half_heusler_pymatgen(x, y, z, lattice_constant):\n",
    "    \"\"\"\n",
    "    Create the primitive cell of a Half-Heusler structure using pymatgen.\n",
    "    \n",
    "    Parameters:\n",
    "        x (str): Element at (0, 0, 0)\n",
    "        y (str): Element at (0.5, 0.5, 0.5)\n",
    "        z (str): Element at (0.25, 0.25, 0.25)\n",
    "        lattice_constant (float): Lattice parameter (in angstroms)\n",
    "    \n",
    "    Returns:\n",
    "        Structure: Pymatgen Structure object for the primitive cell.\n",
    "    \"\"\"\n",
    "    # Adjust lattice constant for the primitive cell\n",
    "    a = lattice_constant / 2\n",
    "    lattice = Lattice([\n",
    "        [0, a, a],\n",
    "        [a, 0, a],\n",
    "        [a, a, 0],\n",
    "    ])\n",
    "    \n",
    "    # Define atomic positions\n",
    "    species = [x, y, z]\n",
    "    positions = [\n",
    "        [0.25, 0.25, 0.25],  # X atom\n",
    "        [0, 0, 0],        # Y atom\n",
    "        [0.5, 0.5, 0.5],  # Z atom\n",
    "    ]\n",
    "    \n",
    "    # Create the structure\n",
    "    structure = Structure(lattice, species, positions)\n",
    "    return structure\n",
    "\n",
    "# Example usage\n",
    "# lattice_constant = 6.0\n",
    "# primitive_half_heusler_pmg = create_primitive_half_heusler_pymatgen(\"Ti\", \"Ni\", \"Sn\", lattice_constant)\n",
    "\n",
    "# # Display structure details\n",
    "# print(primitive_half_heusler_pmg)\n",
    "\n",
    "# # Save to CIF format\n",
    "# primitive_half_heusler_pmg.to(filename=\"TiNiSn_primitive_pymatgen.cif\")\n"
   ]
  },
  {
   "cell_type": "code",
   "execution_count": 4,
   "metadata": {
    "vscode": {
     "languageId": "ruby"
    }
   },
   "outputs": [],
   "source": [
    "# from pymatgen.symmetry.analyzer import SpacegroupAnalyzer\n",
    "\n",
    "# # Get the conventional cell from the primitive cell\n",
    "# sga = SpacegroupAnalyzer(primitive_half_heusler_pmg)\n",
    "# conventional_half_heusler_pmg = sga.get_conventional_standard_structure()\n",
    "\n",
    "# print(sga.get_space_group_number())\n",
    "\n",
    "# # Display structure details\n",
    "# print(conventional_half_heusler_pmg)\n",
    "\n",
    "\n",
    "# # Save to CIF format\n",
    "# conventional_half_heusler_pmg.to(filename=\"TiNiSn_conventional_pymatgen.cif\")"
   ]
  },
  {
   "cell_type": "code",
   "execution_count": 5,
   "metadata": {},
   "outputs": [],
   "source": [
    "from ase.data import atomic_names, atomic_numbers"
   ]
  },
  {
   "cell_type": "code",
   "execution_count": 6,
   "metadata": {},
   "outputs": [
    {
     "name": "stdout",
     "output_type": "stream",
     "text": [
      "14 15\n"
     ]
    }
   ],
   "source": [
    "Xs = [\n",
    "    'Sc', 'Ti', 'V', 'Cr', 'Mn', 'Y', 'Zr', 'Nb', 'Mo', 'Tc',\n",
    "    'Hf', 'Ta', 'W', 'Re'\n",
    "]\n",
    "\n",
    "Ys = [\n",
    "    'Fe', 'Co', 'Ni', 'Cu', 'Zn', 'Ru', 'Rh', 'Pd', 'Ag', 'Cd',\n",
    "    'Os', 'Ir', 'Pt', 'Au', 'Hg'\n",
    "]\n",
    "\n",
    "print(len(Xs), len(Ys))"
   ]
  },
  {
   "cell_type": "code",
   "execution_count": 7,
   "metadata": {},
   "outputs": [],
   "source": [
    "Z = 'Sb'\n",
    "for X in Xs:\n",
    "    for Y in Ys:\n",
    "        lattice_constant = 6.0\n",
    "        primitive_half_heusler_pmg = create_primitive_half_heusler_pymatgen(\n",
    "            X, Y, Z, lattice_constant\n",
    "            )\n",
    "        primitive_half_heusler_pmg.to(\n",
    "            filename=f\"half-heusler-structures/{X}{Y}{Z}_primitive_pymatgen.xsfs\"\n",
    "            )"
   ]
  },
  {
   "cell_type": "code",
   "execution_count": 10,
   "metadata": {},
   "outputs": [
    {
     "data": {
      "text/plain": [
       "\"# generated using pymatgen\\ndata_ReHgSb\\n_symmetry_space_group_name_H-M   'P 1'\\n_cell_length_a   6.00000000\\n_cell_length_b   6.00000000\\n_cell_length_c   6.00000000\\n_cell_angle_alpha   90.00000000\\n_cell_angle_beta   90.00000000\\n_cell_angle_gamma   90.00000000\\n_symmetry_Int_Tables_number   1\\n_chemical_formula_structural   ReHgSb\\n_chemical_formula_sum   'Re4 Hg4 Sb4'\\n_cell_volume   216.00000000\\n_cell_formula_units_Z   4\\nloop_\\n _symmetry_equiv_pos_site_id\\n _symmetry_equiv_pos_as_xyz\\n  1  'x, y, z'\\nloop_\\n _atom_site_type_symbol\\n _atom_site_label\\n _atom_site_symmetry_multiplicity\\n _atom_site_fract_x\\n _atom_site_fract_y\\n _atom_site_fract_z\\n _atom_site_occupancy\\n  Re  Re0  1  0.25000000  0.25000000  0.75000000  1\\n  Re  Re1  1  0.25000000  0.75000000  0.25000000  1\\n  Re  Re2  1  0.75000000  0.25000000  0.25000000  1\\n  Re  Re3  1  0.75000000  0.75000000  0.75000000  1\\n  Hg  Hg4  1  0.00000000  0.00000000  0.00000000  1\\n  Hg  Hg5  1  0.00000000  0.50000000  0.50000000  1\\n  Hg  Hg6  1  0.50000000  0.00000000  0.50000000  1\\n  Hg  Hg7  1  0.50000000  0.50000000  0.00000000  1\\n  Sb  Sb8  1  0.50000000  0.00000000  0.00000000  1\\n  Sb  Sb9  1  0.50000000  0.50000000  0.50000000  1\\n  Sb  Sb10  1  0.00000000  0.00000000  0.50000000  1\\n  Sb  Sb11  1  0.00000000  0.50000000  0.00000000  1\\n\""
      ]
     },
     "execution_count": 10,
     "metadata": {},
     "output_type": "execute_result"
    }
   ],
   "source": [
    "# from pymatgen.symmetry.analyzer import SpacegroupAnalyzer\n",
    "# sga = SpacegroupAnalyzer(primitive_half_heusler_pmg)\n",
    "# conventional_half_heusler_pmg = sga.get_conventional_standard_structure()\n",
    "\n",
    "# conventional_half_heusler_pmg.to(\n",
    "#     filename=f\"{X}{Y}{Z}_primitive.cif\"\n",
    "# )\n"
   ]
  }
 ],
 "metadata": {
  "kernelspec": {
   "display_name": "aiida-cwf",
   "language": "python",
   "name": "python3"
  },
  "language_info": {
   "codemirror_mode": {
    "name": "ipython",
    "version": 3
   },
   "file_extension": ".py",
   "mimetype": "text/x-python",
   "name": "python",
   "nbconvert_exporter": "python",
   "pygments_lexer": "ipython3",
   "version": "3.11.6"
  }
 },
 "nbformat": 4,
 "nbformat_minor": 2
}
